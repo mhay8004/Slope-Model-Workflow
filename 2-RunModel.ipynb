{
 "cells": [
  {
   "cell_type": "markdown",
   "metadata": {},
   "source": [
    "# Badlands Glacial Model\n",
    "\n",
    "Welcome to the Badlands Glacier model, this Jupyter Notebook will demonstrate everything you need to know to get started exploring glaciers for yourself!\n",
    "\n",
    "Just like you can see below...\n",
    "\n",
    "## Landscapes modelling\n",
    "\n",
    "In this example, we simulate landscape evolution in response to three simple climatic scenarios: \n",
    "+ **fluvial** and\n",
    "+ **glaciated** and \n",
    "+ **Ice-capped** (mixed)\n",
    "\n",
    "<div align=\"center\">\n",
    "    <img width=\"1000\" alt=\"glaciers_model_closeup\" src=\"https://github.com/user-attachments/assets/0e2df5bd-2069-4f9b-ac36-4252c1802754\"\n",
    "    </img>\n",
    "</div>\n",
    "\n",
    "We investigate the drainage network dynamics and the steady-state fluvial patterns that emerge from an application of these climatic forcing mechanisms.\n",
    "\n",
    "The first part of the scenario starts from a flat topography subjected to a constant and uniform rate of tectonic rock uplift (>1 mm/a) and precipitation (1 m/a). The domain is rectangular and the four edges are kept at a constant base-level elevation. The area is a 40x80 km domain. \n",
    "\n",
    "After 8 Ma, the second scenario is applied and consists in a linearly varying rainfall pattern corresponding to an orographic precipitation with the same uniform tectonic uplift rate. The Northern part of the domain is experiencing a 2 m/a precipitation rate and the Southern part is subject to a 0.1 m/a precipitation rate for the next 12 Ma. \n",
    "\n",
    "## Initial settings\n",
    "\n",
    "For this model, we use the ***glacial*** *stream power law sediment transport model* which scale the incision rate $E$ as a power function of surface water discharge $A$, surface ice discharge $A_I$, and slope $S=\\nabla z$:\n",
    "\n",
    "$$\n",
    "E = K_W A_W^m S^n + K_I A_I^m S^n\n",
    "$$\n",
    "\n",
    "where $K$ is the erodibility coefficient dependent on lithology and mean precipitation rate, channel width, flood frequency, channel hydraulics. $K_I$ is the glacial erodability coefficent, and can be altered to reflect higher or lower erosion power, or kept the same.\n",
    "\n",
    "NOTE: The values given to these parameters ($K$, $K_I$, $m$, $n$) need to be set in the **XmL** input file.\n",
    "\n",
    "\n",
    "For this particular setting we do not need to record any deposition as the model is purely erosive. To speed up the model we turn off the deposition computation in **badlands** by setting the **dep** element to *0* in the input file. \n",
    "\n",
    "## Starting badlands\n",
    "\n",
    "First we initialise the model and set the path to the **XmL** input file.\n",
    "\n",
    "\n",
    "> You can edit the **XmL** configuration file at \"fluvial\", \"glacial\", and \"icecap\" (.xml) by changing the url from:\n",
    "+ http://localhost:32771/files/share/.../glacial.xml to \n",
    "+ http://localhost:32771/edit/share/.../glacial.xml\n",
    "where `files` has been modified to `edit`. \n",
    "\n",
    "\n",
    "<div class=\"alert alert-block alert-success\">To view the complete <b>XmL</b> options you can look at the documentation: <a href=\"https://badlands.readthedocs.io/en/latest/xml.html\"><b>badlands readthedoc</b></a>.</div>"
   ]
  },
  {
   "cell_type": "markdown",
   "metadata": {},
   "source": [
    "## Import Badlands"
   ]
  },
  {
   "cell_type": "code",
   "execution_count": null,
   "metadata": {},
   "outputs": [],
   "source": [
    "from badlands.model import Model as badlandsModel"
   ]
  },
  {
   "cell_type": "markdown",
   "metadata": {},
   "source": [
    "## Starting badlands\n",
    "\n",
    "First, we initialise the model and set the path to the **XmL** input file:\n",
    "\n",
    "+ **strati.xml**\n",
    "\n",
    "> You can edit the **XmL** configuration file directly in the _Jupyter environment_ by clicking on it in the `tree` and changing in the **url** the **view** to **edit**."
   ]
  },
  {
   "cell_type": "markdown",
   "metadata": {},
   "source": [
    "# Run the Badlands Model!\n",
    "\n",
    "We can run the model for a given period. The end time in the **XmL** input file is set to _6 Ma_ but you might want to run the model for a coupled of iterations and check the output before running the model for the entire simulation time. This is done by putting the time in the **run_to_time** function. \n",
    "\n",
    "Here we go for _10 Ma_..."
   ]
  },
  {
   "attachments": {},
   "cell_type": "markdown",
   "metadata": {},
   "source": [
    "## Glaciated Mountain Range\n",
    "\n",
    "Here we run the first model, using the glacial.xml input file"
   ]
  },
  {
   "cell_type": "code",
   "execution_count": null,
   "metadata": {},
   "outputs": [],
   "source": [
    "model = badlandsModel()"
   ]
  },
  {
   "cell_type": "code",
   "execution_count": null,
   "metadata": {},
   "outputs": [],
   "source": [
    "model.load_xml('glacial.xml')"
   ]
  },
  {
   "cell_type": "code",
   "execution_count": null,
   "metadata": {
    "scrolled": true
   },
   "outputs": [],
   "source": [
    "model.run_to_time(10000000)"
   ]
  },
  {
   "cell_type": "code",
   "execution_count": null,
   "metadata": {},
   "outputs": [],
   "source": []
  },
  {
   "cell_type": "markdown",
   "metadata": {},
   "source": [
    "## Fluvial Mountain Range"
   ]
  },
  {
   "cell_type": "code",
   "execution_count": null,
   "metadata": {},
   "outputs": [],
   "source": [
    "model = badlandsModel()"
   ]
  },
  {
   "cell_type": "code",
   "execution_count": null,
   "metadata": {},
   "outputs": [],
   "source": [
    "model.load_xml('fluvial.xml')"
   ]
  },
  {
   "cell_type": "code",
   "execution_count": null,
   "metadata": {},
   "outputs": [],
   "source": [
    "model.run_to_time(10000000)"
   ]
  },
  {
   "cell_type": "code",
   "execution_count": null,
   "metadata": {},
   "outputs": [],
   "source": []
  },
  {
   "cell_type": "code",
   "execution_count": null,
   "metadata": {},
   "outputs": [],
   "source": []
  },
  {
   "cell_type": "markdown",
   "metadata": {},
   "source": [
    "## Ice-Capped Mountain Range"
   ]
  },
  {
   "cell_type": "code",
   "execution_count": null,
   "metadata": {},
   "outputs": [],
   "source": [
    "model = badlandsModel()"
   ]
  },
  {
   "cell_type": "code",
   "execution_count": null,
   "metadata": {},
   "outputs": [],
   "source": [
    "model.load_xml('icecap.xml')"
   ]
  },
  {
   "cell_type": "code",
   "execution_count": null,
   "metadata": {},
   "outputs": [],
   "source": [
    "model.run_to_time(10000000)"
   ]
  },
  {
   "cell_type": "code",
   "execution_count": null,
   "metadata": {},
   "outputs": [],
   "source": []
  },
  {
   "cell_type": "code",
   "execution_count": null,
   "metadata": {},
   "outputs": [],
   "source": []
  },
  {
   "cell_type": "markdown",
   "metadata": {},
   "source": [
    "## Morphometric and Hydrometric Analysis"
   ]
  },
  {
   "cell_type": "code",
   "execution_count": null,
   "metadata": {},
   "outputs": [],
   "source": [
    "print(\"Selv tak\")"
   ]
  },
  {
   "cell_type": "code",
   "execution_count": null,
   "metadata": {},
   "outputs": [],
   "source": []
  },
  {
   "cell_type": "code",
   "execution_count": null,
   "metadata": {},
   "outputs": [],
   "source": []
  }
 ],
 "metadata": {
  "kernelspec": {
   "display_name": "Python 3 (ipykernel)",
   "language": "python",
   "name": "python3"
  },
  "language_info": {
   "codemirror_mode": {
    "name": "ipython",
    "version": 3
   },
   "file_extension": ".py",
   "mimetype": "text/x-python",
   "name": "python",
   "nbconvert_exporter": "python",
   "pygments_lexer": "ipython3",
   "version": "3.8.18"
  }
 },
 "nbformat": 4,
 "nbformat_minor": 4
}
